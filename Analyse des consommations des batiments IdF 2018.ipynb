{
 "cells": [
  {
   "cell_type": "code",
   "execution_count": 1,
   "id": "251f38da-9e41-4fd0-b37b-7bbac7bd5e67",
   "metadata": {},
   "outputs": [],
   "source": [
    "import os\n",
    "import pandas as pd\n",
    "import matplotlib.pyplot as plt\n",
    "import numpy as np\n",
    "import numpy as np\n",
    "import scipy.stats\n",
    "import seaborn as sns\n"
   ]
  },
  {
   "attachments": {},
   "cell_type": "markdown",
   "id": "d1496900-b69e-400a-b719-11f521cf8071",
   "metadata": {},
   "source": [
    "# Analyse des consommations d'énergie dans les logements en Ile de France"
   ]
  },
  {
   "attachments": {},
   "cell_type": "markdown",
   "id": "c03518f5-7d62-49ab-aee2-c33e1ec29276",
   "metadata": {},
   "source": [
    "## Lecture des données"
   ]
  },
  {
   "cell_type": "code",
   "execution_count": null,
   "id": "69a49929-fdb2-4c4a-b2ce-bf9ed817bef3",
   "metadata": {},
   "outputs": [],
   "source": [
    "folder_path = \"\" # chemin vers le dossier où est écrit le fichier conso_residentiel_2018_cc_commune_type_usage_energie.csv \n",
    "df = pd.read_csv(os.path.join(folder_path, \"conso_residentiel_2018_cc_commune_type_usage_energie.csv\"),\n",
    "                             sep = ';', decimal = '.', encoding = 'latin1')"
   ]
  },
  {
   "cell_type": "code",
   "execution_count": 82,
   "id": "cba933a1-a850-4118-a65a-12b6a8a6800d",
   "metadata": {},
   "outputs": [
    {
     "data": {
      "text/plain": [
       "Index(['categorie', 'commune', 'nom commune', 'conso', 'type_batiment',\n",
       "       'usage', 'energie'],\n",
       "      dtype='object')"
      ]
     },
     "execution_count": 82,
     "metadata": {},
     "output_type": "execute_result"
    }
   ],
   "source": [
    "df.columns"
   ]
  },
  {
   "attachments": {},
   "cell_type": "markdown",
   "id": "8d2c3991-722c-45c9-b066-499f084db719",
   "metadata": {},
   "source": [
    "Les différentes colonnes de ce dataframe:\n",
    "- **categorie**: logement principal ou secondaire\n",
    "- **commune**: code postal de la commune des logements concernés\n",
    "- **nom commune**\n",
    "- **conso**: consommation totale annuelle d'énergie en 2018 (en MWh) pour les logements concernés **et pour l'usage énergétique concerné**. Cette consommation est **corrigée du climat**, ce qui signifie qu'elle a été normalisée par un **indice de rigueur** qui sans rentrer dans les détails représente à quel point l'année 2018 a été froide par rapport à une année climatique moyenne.\n",
    "- **type_batiment**: logement dans une maison ou un immeuble\n",
    "- **usage**: usage énergétique du logement (chauffage, eau chaude sanitaire, autres (cuisson, éclairage, climatisation, ....))\n",
    "- **énergie**: vecteur énergétique utilisé pour cet usage énergétique (électricité, gaz naturel, chauffage urbain, produits pétroliers/charbon (fioul domestique, GPL, etc...), bois)"
   ]
  },
  {
   "attachments": {},
   "cell_type": "markdown",
   "id": "c22fb3a6-acef-400e-86d2-cd65a9051b4f",
   "metadata": {},
   "source": [
    "## Analyse\n",
    "A vous de jouer !"
   ]
  },
  {
   "attachments": {},
   "cell_type": "markdown",
   "id": "7543e5ff",
   "metadata": {},
   "source": [
    "> ## **Traitement des données**"
   ]
  },
  {
   "cell_type": "code",
   "execution_count": 83,
   "id": "30e267a1-6857-4e05-b70b-e86bb9b8e4d2",
   "metadata": {},
   "outputs": [
    {
     "data": {
      "text/html": [
       "<div>\n",
       "<style scoped>\n",
       "    .dataframe tbody tr th:only-of-type {\n",
       "        vertical-align: middle;\n",
       "    }\n",
       "\n",
       "    .dataframe tbody tr th {\n",
       "        vertical-align: top;\n",
       "    }\n",
       "\n",
       "    .dataframe thead th {\n",
       "        text-align: right;\n",
       "    }\n",
       "</style>\n",
       "<table border=\"1\" class=\"dataframe\">\n",
       "  <thead>\n",
       "    <tr style=\"text-align: right;\">\n",
       "      <th></th>\n",
       "      <th>categorie</th>\n",
       "      <th>commune</th>\n",
       "      <th>nom commune</th>\n",
       "      <th>conso</th>\n",
       "      <th>type_batiment</th>\n",
       "      <th>usage</th>\n",
       "      <th>energie</th>\n",
       "    </tr>\n",
       "  </thead>\n",
       "  <tbody>\n",
       "    <tr>\n",
       "      <th>0</th>\n",
       "      <td>Principal</td>\n",
       "      <td>75101</td>\n",
       "      <td>Paris 1er Arrondissement</td>\n",
       "      <td>80.0</td>\n",
       "      <td>Maison</td>\n",
       "      <td>Chauffage</td>\n",
       "      <td>Bois</td>\n",
       "    </tr>\n",
       "    <tr>\n",
       "      <th>1</th>\n",
       "      <td>Principal</td>\n",
       "      <td>75102</td>\n",
       "      <td>Paris 2e  Arrondissement</td>\n",
       "      <td>NaN</td>\n",
       "      <td>Maison</td>\n",
       "      <td>Chauffage</td>\n",
       "      <td>Bois</td>\n",
       "    </tr>\n",
       "    <tr>\n",
       "      <th>2</th>\n",
       "      <td>Principal</td>\n",
       "      <td>75103</td>\n",
       "      <td>Paris 3e  Arrondissement</td>\n",
       "      <td>120.0</td>\n",
       "      <td>Maison</td>\n",
       "      <td>Chauffage</td>\n",
       "      <td>Bois</td>\n",
       "    </tr>\n",
       "    <tr>\n",
       "      <th>3</th>\n",
       "      <td>Principal</td>\n",
       "      <td>75104</td>\n",
       "      <td>Paris 4e  Arrondissement</td>\n",
       "      <td>100.0</td>\n",
       "      <td>Maison</td>\n",
       "      <td>Chauffage</td>\n",
       "      <td>Bois</td>\n",
       "    </tr>\n",
       "    <tr>\n",
       "      <th>4</th>\n",
       "      <td>Principal</td>\n",
       "      <td>75105</td>\n",
       "      <td>Paris 5e  Arrondissement</td>\n",
       "      <td>300.0</td>\n",
       "      <td>Maison</td>\n",
       "      <td>Chauffage</td>\n",
       "      <td>Bois</td>\n",
       "    </tr>\n",
       "  </tbody>\n",
       "</table>\n",
       "</div>"
      ],
      "text/plain": [
       "   categorie  commune               nom commune  conso type_batiment  \\\n",
       "0  Principal    75101  Paris 1er Arrondissement   80.0        Maison   \n",
       "1  Principal    75102  Paris 2e  Arrondissement    NaN        Maison   \n",
       "2  Principal    75103  Paris 3e  Arrondissement  120.0        Maison   \n",
       "3  Principal    75104  Paris 4e  Arrondissement  100.0        Maison   \n",
       "4  Principal    75105  Paris 5e  Arrondissement  300.0        Maison   \n",
       "\n",
       "       usage energie  \n",
       "0  Chauffage    Bois  \n",
       "1  Chauffage    Bois  \n",
       "2  Chauffage    Bois  \n",
       "3  Chauffage    Bois  \n",
       "4  Chauffage    Bois  "
      ]
     },
     "execution_count": 83,
     "metadata": {},
     "output_type": "execute_result"
    }
   ],
   "source": [
    "df.head() # appercu de la base"
   ]
  },
  {
   "cell_type": "code",
   "execution_count": 84,
   "id": "29d995eb",
   "metadata": {},
   "outputs": [
    {
     "name": "stdout",
     "output_type": "stream",
     "text": [
      "<class 'pandas.core.frame.DataFrame'>\n",
      "RangeIndex: 22477 entries, 0 to 22476\n",
      "Data columns (total 7 columns):\n",
      " #   Column         Non-Null Count  Dtype  \n",
      "---  ------         --------------  -----  \n",
      " 0   categorie      22477 non-null  object \n",
      " 1   commune        22477 non-null  int64  \n",
      " 2   nom commune    22477 non-null  object \n",
      " 3   conso          22469 non-null  float64\n",
      " 4   type_batiment  22477 non-null  object \n",
      " 5   usage          22477 non-null  object \n",
      " 6   energie        22477 non-null  object \n",
      "dtypes: float64(1), int64(1), object(5)\n",
      "memory usage: 1.2+ MB\n"
     ]
    }
   ],
   "source": [
    "df.info()"
   ]
  },
  {
   "attachments": {},
   "cell_type": "markdown",
   "id": "99c8088e",
   "metadata": {},
   "source": [
    "> **La base de données comporte 22477 lignes et 7 colonnes**"
   ]
  },
  {
   "attachments": {},
   "cell_type": "markdown",
   "id": "af0fca8f",
   "metadata": {},
   "source": [
    "> **On vérifie la présence de doublons**"
   ]
  },
  {
   "cell_type": "code",
   "execution_count": 85,
   "id": "e718fbdb",
   "metadata": {},
   "outputs": [
    {
     "data": {
      "text/plain": [
       "False    22477\n",
       "dtype: int64"
      ]
     },
     "execution_count": 85,
     "metadata": {},
     "output_type": "execute_result"
    }
   ],
   "source": [
    "df.duplicated().value_counts()"
   ]
  },
  {
   "attachments": {},
   "cell_type": "markdown",
   "id": "00b49184",
   "metadata": {},
   "source": [
    "> **Il n'y a pas de doublons dans la base**"
   ]
  },
  {
   "attachments": {},
   "cell_type": "markdown",
   "id": "665a5f43",
   "metadata": {},
   "source": [
    "> **On vérifie la présence de données manquantes**"
   ]
  },
  {
   "cell_type": "code",
   "execution_count": 86,
   "id": "f565a568",
   "metadata": {},
   "outputs": [
    {
     "data": {
      "text/plain": [
       "categorie        0\n",
       "commune          0\n",
       "nom commune      0\n",
       "conso            8\n",
       "type_batiment    0\n",
       "usage            0\n",
       "energie          0\n",
       "dtype: int64"
      ]
     },
     "execution_count": 86,
     "metadata": {},
     "output_type": "execute_result"
    }
   ],
   "source": [
    "df.isnull().sum()"
   ]
  },
  {
   "attachments": {},
   "cell_type": "markdown",
   "id": "de4a4a9a",
   "metadata": {},
   "source": [
    "> **Seule la colonne conso présente des données manquantes(8)**"
   ]
  },
  {
   "attachments": {},
   "cell_type": "markdown",
   "id": "c2395e27",
   "metadata": {},
   "source": [
    "> **On regarde à quoi correspond ces données**"
   ]
  },
  {
   "cell_type": "code",
   "execution_count": 87,
   "id": "56c05f65",
   "metadata": {},
   "outputs": [
    {
     "data": {
      "text/html": [
       "<div>\n",
       "<style scoped>\n",
       "    .dataframe tbody tr th:only-of-type {\n",
       "        vertical-align: middle;\n",
       "    }\n",
       "\n",
       "    .dataframe tbody tr th {\n",
       "        vertical-align: top;\n",
       "    }\n",
       "\n",
       "    .dataframe thead th {\n",
       "        text-align: right;\n",
       "    }\n",
       "</style>\n",
       "<table border=\"1\" class=\"dataframe\">\n",
       "  <thead>\n",
       "    <tr style=\"text-align: right;\">\n",
       "      <th></th>\n",
       "      <th>categorie</th>\n",
       "      <th>commune</th>\n",
       "      <th>nom commune</th>\n",
       "      <th>conso</th>\n",
       "      <th>type_batiment</th>\n",
       "      <th>usage</th>\n",
       "      <th>energie</th>\n",
       "    </tr>\n",
       "  </thead>\n",
       "  <tbody>\n",
       "    <tr>\n",
       "      <th>1</th>\n",
       "      <td>Principal</td>\n",
       "      <td>75102</td>\n",
       "      <td>Paris 2e  Arrondissement</td>\n",
       "      <td>NaN</td>\n",
       "      <td>Maison</td>\n",
       "      <td>Chauffage</td>\n",
       "      <td>Bois</td>\n",
       "    </tr>\n",
       "    <tr>\n",
       "      <th>22261</th>\n",
       "      <td>Principal</td>\n",
       "      <td>92012</td>\n",
       "      <td>Boulogne-Billancourt</td>\n",
       "      <td>NaN</td>\n",
       "      <td>Immeuble</td>\n",
       "      <td>Chauffage</td>\n",
       "      <td>Chauffage Urbain</td>\n",
       "    </tr>\n",
       "    <tr>\n",
       "      <th>22262</th>\n",
       "      <td>Principal</td>\n",
       "      <td>92022</td>\n",
       "      <td>Chaville</td>\n",
       "      <td>NaN</td>\n",
       "      <td>Immeuble</td>\n",
       "      <td>Chauffage</td>\n",
       "      <td>Chauffage Urbain</td>\n",
       "    </tr>\n",
       "    <tr>\n",
       "      <th>22263</th>\n",
       "      <td>Principal</td>\n",
       "      <td>92023</td>\n",
       "      <td>Clamart</td>\n",
       "      <td>NaN</td>\n",
       "      <td>Immeuble</td>\n",
       "      <td>Chauffage</td>\n",
       "      <td>Chauffage Urbain</td>\n",
       "    </tr>\n",
       "    <tr>\n",
       "      <th>22264</th>\n",
       "      <td>Principal</td>\n",
       "      <td>92024</td>\n",
       "      <td>Clichy</td>\n",
       "      <td>NaN</td>\n",
       "      <td>Immeuble</td>\n",
       "      <td>Chauffage</td>\n",
       "      <td>Chauffage Urbain</td>\n",
       "    </tr>\n",
       "    <tr>\n",
       "      <th>22420</th>\n",
       "      <td>Principal</td>\n",
       "      <td>93008</td>\n",
       "      <td>Bobigny</td>\n",
       "      <td>NaN</td>\n",
       "      <td>Immeuble</td>\n",
       "      <td>ECS</td>\n",
       "      <td>Chauffage Urbain</td>\n",
       "    </tr>\n",
       "    <tr>\n",
       "      <th>22421</th>\n",
       "      <td>Principal</td>\n",
       "      <td>93010</td>\n",
       "      <td>Bondy</td>\n",
       "      <td>NaN</td>\n",
       "      <td>Immeuble</td>\n",
       "      <td>ECS</td>\n",
       "      <td>Chauffage Urbain</td>\n",
       "    </tr>\n",
       "    <tr>\n",
       "      <th>22422</th>\n",
       "      <td>Principal</td>\n",
       "      <td>93014</td>\n",
       "      <td>Clichy-sous-Bois</td>\n",
       "      <td>NaN</td>\n",
       "      <td>Immeuble</td>\n",
       "      <td>ECS</td>\n",
       "      <td>Chauffage Urbain</td>\n",
       "    </tr>\n",
       "  </tbody>\n",
       "</table>\n",
       "</div>"
      ],
      "text/plain": [
       "       categorie  commune               nom commune  conso type_batiment  \\\n",
       "1      Principal    75102  Paris 2e  Arrondissement    NaN        Maison   \n",
       "22261  Principal    92012      Boulogne-Billancourt    NaN      Immeuble   \n",
       "22262  Principal    92022                  Chaville    NaN      Immeuble   \n",
       "22263  Principal    92023                   Clamart    NaN      Immeuble   \n",
       "22264  Principal    92024                    Clichy    NaN      Immeuble   \n",
       "22420  Principal    93008                   Bobigny    NaN      Immeuble   \n",
       "22421  Principal    93010                     Bondy    NaN      Immeuble   \n",
       "22422  Principal    93014          Clichy-sous-Bois    NaN      Immeuble   \n",
       "\n",
       "           usage           energie  \n",
       "1      Chauffage              Bois  \n",
       "22261  Chauffage  Chauffage Urbain  \n",
       "22262  Chauffage  Chauffage Urbain  \n",
       "22263  Chauffage  Chauffage Urbain  \n",
       "22264  Chauffage  Chauffage Urbain  \n",
       "22420        ECS  Chauffage Urbain  \n",
       "22421        ECS  Chauffage Urbain  \n",
       "22422        ECS  Chauffage Urbain  "
      ]
     },
     "execution_count": 87,
     "metadata": {},
     "output_type": "execute_result"
    }
   ],
   "source": [
    "df_null=df[df['conso'].isnull()]\n",
    "df_null"
   ]
  },
  {
   "attachments": {},
   "cell_type": "markdown",
   "id": "bae30671",
   "metadata": {},
   "source": [
    "> **Ce sont en majorité des données sur des immeubles**"
   ]
  },
  {
   "attachments": {},
   "cell_type": "markdown",
   "id": "86750fb3",
   "metadata": {},
   "source": [
    "> **Etant donné leur faible nombre, on va les remplacer par la moyennes**"
   ]
  },
  {
   "cell_type": "code",
   "execution_count": 88,
   "id": "39853d6a",
   "metadata": {},
   "outputs": [
    {
     "data": {
      "text/plain": [
       "categorie        0\n",
       "commune          0\n",
       "nom commune      0\n",
       "conso            0\n",
       "type_batiment    0\n",
       "usage            0\n",
       "energie          0\n",
       "dtype: int64"
      ]
     },
     "execution_count": 88,
     "metadata": {},
     "output_type": "execute_result"
    }
   ],
   "source": [
    "mean=df[\"conso\"].mean()  \n",
    "df[\"conso\"].replace(np.nan,mean, inplace=True)  \n",
    "df.isnull().sum()"
   ]
  },
  {
   "attachments": {},
   "cell_type": "markdown",
   "id": "524a2e9d",
   "metadata": {},
   "source": [
    "> **Il n'y a plus de données manquantes**"
   ]
  },
  {
   "attachments": {},
   "cell_type": "markdown",
   "id": "3ebe026f",
   "metadata": {},
   "source": [
    "> **On importe à présent la base de données des contours communaux en Ile de France**"
   ]
  },
  {
   "cell_type": "code",
   "execution_count": 89,
   "id": "2be45d5d",
   "metadata": {},
   "outputs": [],
   "source": [
    "import geopandas as gpd"
   ]
  },
  {
   "cell_type": "code",
   "execution_count": 90,
   "id": "ea88148c",
   "metadata": {},
   "outputs": [
    {
     "data": {
      "text/html": [
       "<div>\n",
       "<style scoped>\n",
       "    .dataframe tbody tr th:only-of-type {\n",
       "        vertical-align: middle;\n",
       "    }\n",
       "\n",
       "    .dataframe tbody tr th {\n",
       "        vertical-align: top;\n",
       "    }\n",
       "\n",
       "    .dataframe thead th {\n",
       "        text-align: right;\n",
       "    }\n",
       "</style>\n",
       "<table border=\"1\" class=\"dataframe\">\n",
       "  <thead>\n",
       "    <tr style=\"text-align: right;\">\n",
       "      <th></th>\n",
       "      <th>insee</th>\n",
       "      <th>nom</th>\n",
       "      <th>wikipedia</th>\n",
       "      <th>surf_ha</th>\n",
       "      <th>geometry</th>\n",
       "    </tr>\n",
       "  </thead>\n",
       "  <tbody>\n",
       "    <tr>\n",
       "      <th>0</th>\n",
       "      <td>78020</td>\n",
       "      <td>Arnouville-lès-Mantes</td>\n",
       "      <td>fr:Arnouville-lès-Mantes</td>\n",
       "      <td>989.0</td>\n",
       "      <td>POLYGON ((1.69562 48.90558, 1.69705 48.90696, ...</td>\n",
       "    </tr>\n",
       "    <tr>\n",
       "      <th>1</th>\n",
       "      <td>77225</td>\n",
       "      <td>La Haute-Maison</td>\n",
       "      <td>fr:La Haute-Maison</td>\n",
       "      <td>1295.0</td>\n",
       "      <td>POLYGON ((2.97134 48.90059, 2.97227 48.90160, ...</td>\n",
       "    </tr>\n",
       "    <tr>\n",
       "      <th>2</th>\n",
       "      <td>77464</td>\n",
       "      <td>Thorigny-sur-Marne</td>\n",
       "      <td>fr:Thorigny-sur-Marne</td>\n",
       "      <td>513.0</td>\n",
       "      <td>POLYGON ((2.69311 48.89990, 2.69451 48.89980, ...</td>\n",
       "    </tr>\n",
       "    <tr>\n",
       "      <th>3</th>\n",
       "      <td>93053</td>\n",
       "      <td>Noisy-le-Sec</td>\n",
       "      <td>fr:Noisy-le-Sec</td>\n",
       "      <td>504.0</td>\n",
       "      <td>POLYGON ((2.43902 48.89320, 2.43959 48.89455, ...</td>\n",
       "    </tr>\n",
       "    <tr>\n",
       "      <th>4</th>\n",
       "      <td>78416</td>\n",
       "      <td>Montalet-le-Bois</td>\n",
       "      <td>fr:Montalet-le-Bois</td>\n",
       "      <td>302.0</td>\n",
       "      <td>POLYGON ((1.81515 49.05548, 1.82068 49.05614, ...</td>\n",
       "    </tr>\n",
       "  </tbody>\n",
       "</table>\n",
       "</div>"
      ],
      "text/plain": [
       "   insee                    nom                 wikipedia  surf_ha  \\\n",
       "0  78020  Arnouville-lès-Mantes  fr:Arnouville-lès-Mantes    989.0   \n",
       "1  77225        La Haute-Maison        fr:La Haute-Maison   1295.0   \n",
       "2  77464     Thorigny-sur-Marne     fr:Thorigny-sur-Marne    513.0   \n",
       "3  93053           Noisy-le-Sec           fr:Noisy-le-Sec    504.0   \n",
       "4  78416       Montalet-le-Bois       fr:Montalet-le-Bois    302.0   \n",
       "\n",
       "                                            geometry  \n",
       "0  POLYGON ((1.69562 48.90558, 1.69705 48.90696, ...  \n",
       "1  POLYGON ((2.97134 48.90059, 2.97227 48.90160, ...  \n",
       "2  POLYGON ((2.69311 48.89990, 2.69451 48.89980, ...  \n",
       "3  POLYGON ((2.43902 48.89320, 2.43959 48.89455, ...  \n",
       "4  POLYGON ((1.81515 49.05548, 1.82068 49.05614, ...  "
      ]
     },
     "execution_count": 90,
     "metadata": {},
     "output_type": "execute_result"
    }
   ],
   "source": [
    "communes = gpd.read_file(\"Communes_IDF/communes_IDF.shp\")\n",
    "communes.head()"
   ]
  },
  {
   "cell_type": "code",
   "execution_count": 91,
   "id": "7cb4c1bf",
   "metadata": {},
   "outputs": [
    {
     "name": "stdout",
     "output_type": "stream",
     "text": [
      "<class 'geopandas.geodataframe.GeoDataFrame'>\n",
      "RangeIndex: 1268 entries, 0 to 1267\n",
      "Data columns (total 5 columns):\n",
      " #   Column     Non-Null Count  Dtype   \n",
      "---  ------     --------------  -----   \n",
      " 0   insee      1268 non-null   object  \n",
      " 1   nom        1268 non-null   object  \n",
      " 2   wikipedia  1268 non-null   object  \n",
      " 3   surf_ha    1268 non-null   float64 \n",
      " 4   geometry   1268 non-null   geometry\n",
      "dtypes: float64(1), geometry(1), object(3)\n",
      "memory usage: 49.7+ KB\n"
     ]
    }
   ],
   "source": [
    "communes.info()"
   ]
  },
  {
   "attachments": {},
   "cell_type": "markdown",
   "id": "6876808c",
   "metadata": {},
   "source": [
    "> **Il n'y a aucune données manquantes**"
   ]
  },
  {
   "cell_type": "code",
   "execution_count": 92,
   "id": "bf9fe6af",
   "metadata": {},
   "outputs": [
    {
     "data": {
      "text/plain": [
       "78020    1\n",
       "94074    1\n",
       "77365    1\n",
       "77322    1\n",
       "77148    1\n",
       "        ..\n",
       "77400    1\n",
       "91100    1\n",
       "78013    1\n",
       "77125    1\n",
       "77304    1\n",
       "Name: insee, Length: 1268, dtype: int64"
      ]
     },
     "execution_count": 92,
     "metadata": {},
     "output_type": "execute_result"
    }
   ],
   "source": [
    "communes.insee.value_counts()"
   ]
  },
  {
   "cell_type": "code",
   "execution_count": 93,
   "id": "fabfb111",
   "metadata": {},
   "outputs": [
    {
     "data": {
      "text/plain": [
       "75101    22\n",
       "94037    22\n",
       "94071    22\n",
       "94065    22\n",
       "94059    22\n",
       "         ..\n",
       "77267     7\n",
       "91526     7\n",
       "78385     7\n",
       "91137     7\n",
       "78163     7\n",
       "Name: commune, Length: 1287, dtype: int64"
      ]
     },
     "execution_count": 93,
     "metadata": {},
     "output_type": "execute_result"
    }
   ],
   "source": [
    "df.commune.value_counts()"
   ]
  },
  {
   "attachments": {},
   "cell_type": "markdown",
   "id": "54f394de",
   "metadata": {},
   "source": [
    "> **La colonne 'insee' n'est au bon format. On la converti en entier**"
   ]
  },
  {
   "cell_type": "code",
   "execution_count": 94,
   "id": "e1718240",
   "metadata": {},
   "outputs": [],
   "source": [
    "communes.insee=communes.insee.astype('int')"
   ]
  },
  {
   "cell_type": "code",
   "execution_count": 95,
   "id": "f7af6b6a",
   "metadata": {},
   "outputs": [
    {
     "name": "stdout",
     "output_type": "stream",
     "text": [
      "<class 'geopandas.geodataframe.GeoDataFrame'>\n",
      "RangeIndex: 1268 entries, 0 to 1267\n",
      "Data columns (total 5 columns):\n",
      " #   Column     Non-Null Count  Dtype   \n",
      "---  ------     --------------  -----   \n",
      " 0   insee      1268 non-null   int32   \n",
      " 1   nom        1268 non-null   object  \n",
      " 2   wikipedia  1268 non-null   object  \n",
      " 3   surf_ha    1268 non-null   float64 \n",
      " 4   geometry   1268 non-null   geometry\n",
      "dtypes: float64(1), geometry(1), int32(1), object(2)\n",
      "memory usage: 44.7+ KB\n"
     ]
    }
   ],
   "source": [
    "communes.info()"
   ]
  },
  {
   "attachments": {},
   "cell_type": "markdown",
   "id": "e780c9c6",
   "metadata": {},
   "source": [
    "> **Concaténation des deux bases**"
   ]
  },
  {
   "cell_type": "code",
   "execution_count": 96,
   "id": "4cc95121",
   "metadata": {},
   "outputs": [
    {
     "data": {
      "text/html": [
       "<div>\n",
       "<style scoped>\n",
       "    .dataframe tbody tr th:only-of-type {\n",
       "        vertical-align: middle;\n",
       "    }\n",
       "\n",
       "    .dataframe tbody tr th {\n",
       "        vertical-align: top;\n",
       "    }\n",
       "\n",
       "    .dataframe thead th {\n",
       "        text-align: right;\n",
       "    }\n",
       "</style>\n",
       "<table border=\"1\" class=\"dataframe\">\n",
       "  <thead>\n",
       "    <tr style=\"text-align: right;\">\n",
       "      <th></th>\n",
       "      <th>categorie</th>\n",
       "      <th>commune</th>\n",
       "      <th>nom commune</th>\n",
       "      <th>conso</th>\n",
       "      <th>type_batiment</th>\n",
       "      <th>usage</th>\n",
       "      <th>energie</th>\n",
       "      <th>insee</th>\n",
       "      <th>nom</th>\n",
       "      <th>wikipedia</th>\n",
       "      <th>surf_ha</th>\n",
       "      <th>geometry</th>\n",
       "      <th>merge_type</th>\n",
       "    </tr>\n",
       "  </thead>\n",
       "  <tbody>\n",
       "    <tr>\n",
       "      <th>0</th>\n",
       "      <td>Principal</td>\n",
       "      <td>75101</td>\n",
       "      <td>Paris 1er Arrondissement</td>\n",
       "      <td>80.000000</td>\n",
       "      <td>Maison</td>\n",
       "      <td>Chauffage</td>\n",
       "      <td>Bois</td>\n",
       "      <td>NaN</td>\n",
       "      <td>NaN</td>\n",
       "      <td>NaN</td>\n",
       "      <td>NaN</td>\n",
       "      <td>None</td>\n",
       "      <td>left_only</td>\n",
       "    </tr>\n",
       "    <tr>\n",
       "      <th>1</th>\n",
       "      <td>Principal</td>\n",
       "      <td>75102</td>\n",
       "      <td>Paris 2e  Arrondissement</td>\n",
       "      <td>3645.267702</td>\n",
       "      <td>Maison</td>\n",
       "      <td>Chauffage</td>\n",
       "      <td>Bois</td>\n",
       "      <td>NaN</td>\n",
       "      <td>NaN</td>\n",
       "      <td>NaN</td>\n",
       "      <td>NaN</td>\n",
       "      <td>None</td>\n",
       "      <td>left_only</td>\n",
       "    </tr>\n",
       "    <tr>\n",
       "      <th>2</th>\n",
       "      <td>Principal</td>\n",
       "      <td>75103</td>\n",
       "      <td>Paris 3e  Arrondissement</td>\n",
       "      <td>120.000000</td>\n",
       "      <td>Maison</td>\n",
       "      <td>Chauffage</td>\n",
       "      <td>Bois</td>\n",
       "      <td>NaN</td>\n",
       "      <td>NaN</td>\n",
       "      <td>NaN</td>\n",
       "      <td>NaN</td>\n",
       "      <td>None</td>\n",
       "      <td>left_only</td>\n",
       "    </tr>\n",
       "    <tr>\n",
       "      <th>3</th>\n",
       "      <td>Principal</td>\n",
       "      <td>75104</td>\n",
       "      <td>Paris 4e  Arrondissement</td>\n",
       "      <td>100.000000</td>\n",
       "      <td>Maison</td>\n",
       "      <td>Chauffage</td>\n",
       "      <td>Bois</td>\n",
       "      <td>NaN</td>\n",
       "      <td>NaN</td>\n",
       "      <td>NaN</td>\n",
       "      <td>NaN</td>\n",
       "      <td>None</td>\n",
       "      <td>left_only</td>\n",
       "    </tr>\n",
       "    <tr>\n",
       "      <th>4</th>\n",
       "      <td>Principal</td>\n",
       "      <td>75105</td>\n",
       "      <td>Paris 5e  Arrondissement</td>\n",
       "      <td>300.000000</td>\n",
       "      <td>Maison</td>\n",
       "      <td>Chauffage</td>\n",
       "      <td>Bois</td>\n",
       "      <td>NaN</td>\n",
       "      <td>NaN</td>\n",
       "      <td>NaN</td>\n",
       "      <td>NaN</td>\n",
       "      <td>None</td>\n",
       "      <td>left_only</td>\n",
       "    </tr>\n",
       "  </tbody>\n",
       "</table>\n",
       "</div>"
      ],
      "text/plain": [
       "   categorie  commune               nom commune        conso type_batiment  \\\n",
       "0  Principal    75101  Paris 1er Arrondissement    80.000000        Maison   \n",
       "1  Principal    75102  Paris 2e  Arrondissement  3645.267702        Maison   \n",
       "2  Principal    75103  Paris 3e  Arrondissement   120.000000        Maison   \n",
       "3  Principal    75104  Paris 4e  Arrondissement   100.000000        Maison   \n",
       "4  Principal    75105  Paris 5e  Arrondissement   300.000000        Maison   \n",
       "\n",
       "       usage energie  insee  nom wikipedia  surf_ha geometry merge_type  \n",
       "0  Chauffage    Bois    NaN  NaN       NaN      NaN     None  left_only  \n",
       "1  Chauffage    Bois    NaN  NaN       NaN      NaN     None  left_only  \n",
       "2  Chauffage    Bois    NaN  NaN       NaN      NaN     None  left_only  \n",
       "3  Chauffage    Bois    NaN  NaN       NaN      NaN     None  left_only  \n",
       "4  Chauffage    Bois    NaN  NaN       NaN      NaN     None  left_only  "
      ]
     },
     "execution_count": 96,
     "metadata": {},
     "output_type": "execute_result"
    }
   ],
   "source": [
    "df_final=pd.merge(df, communes, how='left',validate='m:1',\n",
    "              left_on='commune',right_on='insee', indicator='merge_type')\n",
    "df_final.head()"
   ]
  },
  {
   "cell_type": "code",
   "execution_count": 97,
   "id": "79a16b52",
   "metadata": {},
   "outputs": [
    {
     "data": {
      "text/plain": [
       "440"
      ]
     },
     "execution_count": 97,
     "metadata": {},
     "output_type": "execute_result"
    }
   ],
   "source": [
    "df_final['geometry'].isnull().sum()"
   ]
  },
  {
   "cell_type": "code",
   "execution_count": 98,
   "id": "89fc9ad3",
   "metadata": {},
   "outputs": [
    {
     "data": {
      "text/plain": [
       "both          22037\n",
       "left_only       440\n",
       "right_only        0\n",
       "Name: merge_type, dtype: int64"
      ]
     },
     "execution_count": 98,
     "metadata": {},
     "output_type": "execute_result"
    }
   ],
   "source": [
    "df_final['merge_type'].value_counts()"
   ]
  },
  {
   "attachments": {},
   "cell_type": "markdown",
   "id": "d71297c2",
   "metadata": {},
   "source": [
    "> **440 enrégistrements de la base des consommations ne figurent pas dans la base des communes**"
   ]
  },
  {
   "attachments": {},
   "cell_type": "markdown",
   "id": "bdd85a80",
   "metadata": {},
   "source": [
    "> ## **Analyse Exploratoire**"
   ]
  },
  {
   "cell_type": "code",
   "execution_count": 110,
   "id": "fdc6f749",
   "metadata": {},
   "outputs": [
    {
     "data": {
      "text/html": [
       "<div>\n",
       "<style scoped>\n",
       "    .dataframe tbody tr th:only-of-type {\n",
       "        vertical-align: middle;\n",
       "    }\n",
       "\n",
       "    .dataframe tbody tr th {\n",
       "        vertical-align: top;\n",
       "    }\n",
       "\n",
       "    .dataframe thead th {\n",
       "        text-align: right;\n",
       "    }\n",
       "</style>\n",
       "<table border=\"1\" class=\"dataframe\">\n",
       "  <thead>\n",
       "    <tr style=\"text-align: right;\">\n",
       "      <th></th>\n",
       "      <th>conso</th>\n",
       "    </tr>\n",
       "  </thead>\n",
       "  <tbody>\n",
       "    <tr>\n",
       "      <th>count</th>\n",
       "      <td>22477.000000</td>\n",
       "    </tr>\n",
       "    <tr>\n",
       "      <th>mean</th>\n",
       "      <td>3645.267702</td>\n",
       "    </tr>\n",
       "    <tr>\n",
       "      <th>std</th>\n",
       "      <td>14585.986043</td>\n",
       "    </tr>\n",
       "    <tr>\n",
       "      <th>min</th>\n",
       "      <td>0.000000</td>\n",
       "    </tr>\n",
       "    <tr>\n",
       "      <th>25%</th>\n",
       "      <td>60.000000</td>\n",
       "    </tr>\n",
       "    <tr>\n",
       "      <th>50%</th>\n",
       "      <td>440.000000</td>\n",
       "    </tr>\n",
       "    <tr>\n",
       "      <th>75%</th>\n",
       "      <td>2070.000000</td>\n",
       "    </tr>\n",
       "    <tr>\n",
       "      <th>max</th>\n",
       "      <td>676920.000000</td>\n",
       "    </tr>\n",
       "  </tbody>\n",
       "</table>\n",
       "</div>"
      ],
      "text/plain": [
       "               conso\n",
       "count   22477.000000\n",
       "mean     3645.267702\n",
       "std     14585.986043\n",
       "min         0.000000\n",
       "25%        60.000000\n",
       "50%       440.000000\n",
       "75%      2070.000000\n",
       "max    676920.000000"
      ]
     },
     "execution_count": 110,
     "metadata": {},
     "output_type": "execute_result"
    }
   ],
   "source": [
    "df_final.loc[:,['conso']].describe()"
   ]
  },
  {
   "attachments": {},
   "cell_type": "markdown",
   "id": "b913e092",
   "metadata": {},
   "source": [
    "> **La consommation moyenne en énergie en île de France était de 3645.267702 MWH en 2018**"
   ]
  },
  {
   "cell_type": "code",
   "execution_count": 108,
   "id": "60a2a5c3",
   "metadata": {},
   "outputs": [
    {
     "data": {
      "text/plain": [
       "Principal    22477\n",
       "Name: categorie, dtype: int64"
      ]
     },
     "execution_count": 108,
     "metadata": {},
     "output_type": "execute_result"
    }
   ],
   "source": [
    "df_final['categorie'].value_counts()"
   ]
  },
  {
   "cell_type": "code",
   "execution_count": 111,
   "id": "f5a1b17d",
   "metadata": {},
   "outputs": [
    {
     "data": {
      "text/html": [
       "<div>\n",
       "<style scoped>\n",
       "    .dataframe tbody tr th:only-of-type {\n",
       "        vertical-align: middle;\n",
       "    }\n",
       "\n",
       "    .dataframe tbody tr th {\n",
       "        vertical-align: top;\n",
       "    }\n",
       "\n",
       "    .dataframe thead th {\n",
       "        text-align: right;\n",
       "    }\n",
       "</style>\n",
       "<table border=\"1\" class=\"dataframe\">\n",
       "  <thead>\n",
       "    <tr style=\"text-align: right;\">\n",
       "      <th></th>\n",
       "      <th>categorie</th>\n",
       "      <th>nom commune</th>\n",
       "      <th>type_batiment</th>\n",
       "      <th>usage</th>\n",
       "      <th>energie</th>\n",
       "      <th>nom</th>\n",
       "      <th>wikipedia</th>\n",
       "    </tr>\n",
       "  </thead>\n",
       "  <tbody>\n",
       "    <tr>\n",
       "      <th>count</th>\n",
       "      <td>22477</td>\n",
       "      <td>22477</td>\n",
       "      <td>22477</td>\n",
       "      <td>22477</td>\n",
       "      <td>22477</td>\n",
       "      <td>22037</td>\n",
       "      <td>22037</td>\n",
       "    </tr>\n",
       "    <tr>\n",
       "      <th>unique</th>\n",
       "      <td>1</td>\n",
       "      <td>1283</td>\n",
       "      <td>2</td>\n",
       "      <td>3</td>\n",
       "      <td>5</td>\n",
       "      <td>1263</td>\n",
       "      <td>1267</td>\n",
       "    </tr>\n",
       "    <tr>\n",
       "      <th>top</th>\n",
       "      <td>Principal</td>\n",
       "      <td>Marolles-en-Brie</td>\n",
       "      <td>Maison</td>\n",
       "      <td>Chauffage</td>\n",
       "      <td>Electricite</td>\n",
       "      <td>Saint-Martin-des-Champs</td>\n",
       "      <td>fr:Ozoir-la-Ferrière</td>\n",
       "    </tr>\n",
       "    <tr>\n",
       "      <th>freq</th>\n",
       "      <td>22477</td>\n",
       "      <td>32</td>\n",
       "      <td>11756</td>\n",
       "      <td>9091</td>\n",
       "      <td>7461</td>\n",
       "      <td>32</td>\n",
       "      <td>22</td>\n",
       "    </tr>\n",
       "  </tbody>\n",
       "</table>\n",
       "</div>"
      ],
      "text/plain": [
       "        categorie       nom commune type_batiment      usage      energie  \\\n",
       "count       22477             22477         22477      22477        22477   \n",
       "unique          1              1283             2          3            5   \n",
       "top     Principal  Marolles-en-Brie        Maison  Chauffage  Electricite   \n",
       "freq        22477                32         11756       9091         7461   \n",
       "\n",
       "                            nom             wikipedia  \n",
       "count                     22037                 22037  \n",
       "unique                     1263                  1267  \n",
       "top     Saint-Martin-des-Champs  fr:Ozoir-la-Ferrière  \n",
       "freq                         32                    22  "
      ]
     },
     "execution_count": 111,
     "metadata": {},
     "output_type": "execute_result"
    }
   ],
   "source": [
    "df_final.describe(include='object')"
   ]
  },
  {
   "attachments": {},
   "cell_type": "markdown",
   "id": "1a440825",
   "metadata": {},
   "source": [
    "> Les logements en île de France sont majoritairement en usage principal.\\\n",
    "> Les maisons sont le plus souvent le type de logement rencontré en île de france.\\\n",
    "> L'énergie est principalement utilisée pour le chauffage.\\\n",
    "> L'électricité est l'énergie le plus couramment utilisée en île de france."
   ]
  },
  {
   "cell_type": "code",
   "execution_count": 113,
   "id": "7741e7eb",
   "metadata": {},
   "outputs": [
    {
     "data": {
      "text/plain": [
       "Index(['categorie', 'commune', 'nom commune', 'conso', 'type_batiment',\n",
       "       'usage', 'energie', 'insee', 'nom', 'wikipedia', 'surf_ha', 'geometry',\n",
       "       'merge_type'],\n",
       "      dtype='object')"
      ]
     },
     "execution_count": 113,
     "metadata": {},
     "output_type": "execute_result"
    }
   ],
   "source": [
    "df_final.columns"
   ]
  },
  {
   "cell_type": "code",
   "execution_count": 116,
   "id": "50c5324b",
   "metadata": {},
   "outputs": [
    {
     "data": {
      "image/png": "[encoded data removed]",
      "text/plain": [
       "<Figure size 1800x1000 with 1 Axes>"
      ]
     },
     "metadata": {},
     "output_type": "display_data"
    }
   ],
   "source": [
    "plt.figure(figsize=(18,10))\n",
    "sns.boxplot(x='type_batiment',y='conso',hue='usage', data=df_final).set_title(' Répartition de la consommation d\\'énergie  selon le type de batiment')\n",
    "plt.ylabel(' Consommation d\\'énergie')\n",
    "plt.show()"
   ]
  },
  {
   "cell_type": "code",
   "execution_count": 126,
   "id": "7af42682",
   "metadata": {},
   "outputs": [
    {
     "data": {
      "image/png": "[encoded data removed]",
      "text/plain": [
       "<Figure size 1800x1000 with 1 Axes>"
      ]
     },
     "metadata": {},
     "output_type": "display_data"
    }
   ],
   "source": [
    "plt.figure(figsize=(18,10))\n",
    "sns.boxplot(x='energie',y='conso', data=df_final).set_title(' Répartition de la consommation d\\'énergie  selon le type d\\'énergie')\n",
    "plt.ylabel(' Consommation d\\'énergie')\n",
    "plt.show()"
   ]
  },
  {
   "cell_type": "code",
   "execution_count": 120,
   "id": "2ac8c86b",
   "metadata": {},
   "outputs": [
    {
     "data": {
      "text/plain": [
       "Index(['categorie', 'commune', 'nom commune', 'conso', 'type_batiment',\n",
       "       'usage', 'energie', 'insee', 'nom', 'wikipedia', 'surf_ha', 'geometry',\n",
       "       'merge_type'],\n",
       "      dtype='object')"
      ]
     },
     "execution_count": 120,
     "metadata": {},
     "output_type": "execute_result"
    }
   ],
   "source": [
    "df_final.columns"
   ]
  },
  {
   "cell_type": "code",
   "execution_count": 122,
   "id": "0d7742ed",
   "metadata": {},
   "outputs": [
    {
     "data": {
      "image/png": "[encoded data removed]",
      "text/plain": [
       "<Figure size 1800x1000 with 1 Axes>"
      ]
     },
     "metadata": {},
     "output_type": "display_data"
    }
   ],
   "source": [
    "plt.figure(figsize=(18,10))\n",
    "sns.scatterplot(x='surf_ha',y='conso',data=df_final).set_title(' Répartition de la consommation d\\'énergie  selon la surface du logement')\n",
    "plt.xlabel('Surface')\n",
    "plt.ylabel(' Consommation d\\'énergie')\n",
    "plt.show()"
   ]
  },
  {
   "attachments": {},
   "cell_type": "markdown",
   "id": "a40181b5",
   "metadata": {},
   "source": [
    ">**Il ne semble pas avoir de lien entre la consommation d'énergie et la surface du logement**"
   ]
  },
  {
   "attachments": {},
   "cell_type": "markdown",
   "id": "9c528166",
   "metadata": {},
   "source": [
    ">**Consommation moyenne selon la commune**"
   ]
  },
  {
   "cell_type": "code",
   "execution_count": 154,
   "id": "6b17214d",
   "metadata": {},
   "outputs": [
    {
     "data": {
      "text/html": [
       "<div>\n",
       "<style scoped>\n",
       "    .dataframe tbody tr th:only-of-type {\n",
       "        vertical-align: middle;\n",
       "    }\n",
       "\n",
       "    .dataframe tbody tr th {\n",
       "        vertical-align: top;\n",
       "    }\n",
       "\n",
       "    .dataframe thead tr th {\n",
       "        text-align: left;\n",
       "    }\n",
       "\n",
       "    .dataframe thead tr:last-of-type th {\n",
       "        text-align: right;\n",
       "    }\n",
       "</style>\n",
       "<table border=\"1\" class=\"dataframe\">\n",
       "  <thead>\n",
       "    <tr>\n",
       "      <th></th>\n",
       "      <th>conso</th>\n",
       "    </tr>\n",
       "    <tr>\n",
       "      <th></th>\n",
       "      <th>mean</th>\n",
       "    </tr>\n",
       "    <tr>\n",
       "      <th>nom commune</th>\n",
       "      <th></th>\n",
       "    </tr>\n",
       "  </thead>\n",
       "  <tbody>\n",
       "    <tr>\n",
       "      <th>Abbéville-la-Rivière</th>\n",
       "      <td>384.285714</td>\n",
       "    </tr>\n",
       "    <tr>\n",
       "      <th>Ableiges</th>\n",
       "      <td>468.333333</td>\n",
       "    </tr>\n",
       "    <tr>\n",
       "      <th>Ablis</th>\n",
       "      <td>1196.000000</td>\n",
       "    </tr>\n",
       "    <tr>\n",
       "      <th>Ablon-sur-Seine</th>\n",
       "      <td>2091.500000</td>\n",
       "    </tr>\n",
       "    <tr>\n",
       "      <th>Achères</th>\n",
       "      <td>6886.363636</td>\n",
       "    </tr>\n",
       "    <tr>\n",
       "      <th>...</th>\n",
       "      <td>...</td>\n",
       "    </tr>\n",
       "    <tr>\n",
       "      <th>Étréchy</th>\n",
       "      <td>2914.500000</td>\n",
       "    </tr>\n",
       "    <tr>\n",
       "      <th>Étrépilly</th>\n",
       "      <td>341.500000</td>\n",
       "    </tr>\n",
       "    <tr>\n",
       "      <th>Évecquemont</th>\n",
       "      <td>463.500000</td>\n",
       "    </tr>\n",
       "    <tr>\n",
       "      <th>Évry-Grégy-sur-Yerre</th>\n",
       "      <td>1330.000000</td>\n",
       "    </tr>\n",
       "    <tr>\n",
       "      <th>Ézanville</th>\n",
       "      <td>3719.000000</td>\n",
       "    </tr>\n",
       "  </tbody>\n",
       "</table>\n",
       "<p>1283 rows × 1 columns</p>\n",
       "</div>"
      ],
      "text/plain": [
       "                            conso\n",
       "                             mean\n",
       "nom commune                      \n",
       "Abbéville-la-Rivière   384.285714\n",
       "Ableiges               468.333333\n",
       "Ablis                 1196.000000\n",
       "Ablon-sur-Seine       2091.500000\n",
       "Achères               6886.363636\n",
       "...                           ...\n",
       "Étréchy               2914.500000\n",
       "Étrépilly              341.500000\n",
       "Évecquemont            463.500000\n",
       "Évry-Grégy-sur-Yerre  1330.000000\n",
       "Ézanville             3719.000000\n",
       "\n",
       "[1283 rows x 1 columns]"
      ]
     },
     "execution_count": 154,
     "metadata": {},
     "output_type": "execute_result"
    }
   ],
   "source": [
    "df_final.filter(items=['nom commune','conso','energie','usage'\n",
    "                       ]).drop_duplicates().groupby(by=['nom commune']).agg({'conso': ['mean']})"
   ]
  },
  {
   "attachments": {},
   "cell_type": "markdown",
   "id": "0c774726",
   "metadata": {},
   "source": [
    ">**Consommation moyenne selon la commune et le type d'énergie**"
   ]
  },
  {
   "cell_type": "code",
   "execution_count": 152,
   "id": "6bf85787",
   "metadata": {},
   "outputs": [
    {
     "data": {
      "text/html": [
       "<div>\n",
       "<style scoped>\n",
       "    .dataframe tbody tr th:only-of-type {\n",
       "        vertical-align: middle;\n",
       "    }\n",
       "\n",
       "    .dataframe tbody tr th {\n",
       "        vertical-align: top;\n",
       "    }\n",
       "\n",
       "    .dataframe thead tr th {\n",
       "        text-align: left;\n",
       "    }\n",
       "\n",
       "    .dataframe thead tr:last-of-type th {\n",
       "        text-align: right;\n",
       "    }\n",
       "</style>\n",
       "<table border=\"1\" class=\"dataframe\">\n",
       "  <thead>\n",
       "    <tr>\n",
       "      <th></th>\n",
       "      <th></th>\n",
       "      <th>conso</th>\n",
       "    </tr>\n",
       "    <tr>\n",
       "      <th></th>\n",
       "      <th></th>\n",
       "      <th>mean</th>\n",
       "    </tr>\n",
       "    <tr>\n",
       "      <th>nom commune</th>\n",
       "      <th>energie</th>\n",
       "      <th></th>\n",
       "    </tr>\n",
       "  </thead>\n",
       "  <tbody>\n",
       "    <tr>\n",
       "      <th rowspan=\"3\" valign=\"top\">Abbéville-la-Rivière</th>\n",
       "      <th>Bois</th>\n",
       "      <td>670.000000</td>\n",
       "    </tr>\n",
       "    <tr>\n",
       "      <th>Electricite</th>\n",
       "      <td>383.333333</td>\n",
       "    </tr>\n",
       "    <tr>\n",
       "      <th>Petrole-Charbon</th>\n",
       "      <td>290.000000</td>\n",
       "    </tr>\n",
       "    <tr>\n",
       "      <th rowspan=\"2\" valign=\"top\">Ableiges</th>\n",
       "      <th>Bois</th>\n",
       "      <td>470.000000</td>\n",
       "    </tr>\n",
       "    <tr>\n",
       "      <th>Electricite</th>\n",
       "      <td>596.666667</td>\n",
       "    </tr>\n",
       "    <tr>\n",
       "      <th>...</th>\n",
       "      <th>...</th>\n",
       "      <td>...</td>\n",
       "    </tr>\n",
       "    <tr>\n",
       "      <th>Évry-Grégy-sur-Yerre</th>\n",
       "      <th>Petrole-Charbon</th>\n",
       "      <td>520.000000</td>\n",
       "    </tr>\n",
       "    <tr>\n",
       "      <th rowspan=\"4\" valign=\"top\">Ézanville</th>\n",
       "      <th>Bois</th>\n",
       "      <td>1595.000000</td>\n",
       "    </tr>\n",
       "    <tr>\n",
       "      <th>Electricite</th>\n",
       "      <td>3180.000000</td>\n",
       "    </tr>\n",
       "    <tr>\n",
       "      <th>Gaz Naturel</th>\n",
       "      <td>7830.000000</td>\n",
       "    </tr>\n",
       "    <tr>\n",
       "      <th>Petrole-Charbon</th>\n",
       "      <td>855.000000</td>\n",
       "    </tr>\n",
       "  </tbody>\n",
       "</table>\n",
       "<p>4907 rows × 1 columns</p>\n",
       "</div>"
      ],
      "text/plain": [
       "                                            conso\n",
       "                                             mean\n",
       "nom commune          energie                     \n",
       "Abbéville-la-Rivière Bois              670.000000\n",
       "                     Electricite       383.333333\n",
       "                     Petrole-Charbon   290.000000\n",
       "Ableiges             Bois              470.000000\n",
       "                     Electricite       596.666667\n",
       "...                                           ...\n",
       "Évry-Grégy-sur-Yerre Petrole-Charbon   520.000000\n",
       "Ézanville            Bois             1595.000000\n",
       "                     Electricite      3180.000000\n",
       "                     Gaz Naturel      7830.000000\n",
       "                     Petrole-Charbon   855.000000\n",
       "\n",
       "[4907 rows x 1 columns]"
      ]
     },
     "execution_count": 152,
     "metadata": {},
     "output_type": "execute_result"
    }
   ],
   "source": [
    "df_final.filter(items=['nom commune','conso','energie','usage',\n",
    "                       ]).drop_duplicates().groupby(by=['nom commune', 'energie']).agg({'conso': ['mean']})"
   ]
  },
  {
   "attachments": {},
   "cell_type": "markdown",
   "id": "e1460984",
   "metadata": {},
   "source": [
    ">**Consommation moyenne selon la commune et le type d'usage**"
   ]
  },
  {
   "cell_type": "code",
   "execution_count": 153,
   "id": "ae17a9cf",
   "metadata": {},
   "outputs": [
    {
     "data": {
      "text/html": [
       "<div>\n",
       "<style scoped>\n",
       "    .dataframe tbody tr th:only-of-type {\n",
       "        vertical-align: middle;\n",
       "    }\n",
       "\n",
       "    .dataframe tbody tr th {\n",
       "        vertical-align: top;\n",
       "    }\n",
       "\n",
       "    .dataframe thead tr th {\n",
       "        text-align: left;\n",
       "    }\n",
       "\n",
       "    .dataframe thead tr:last-of-type th {\n",
       "        text-align: right;\n",
       "    }\n",
       "</style>\n",
       "<table border=\"1\" class=\"dataframe\">\n",
       "  <thead>\n",
       "    <tr>\n",
       "      <th></th>\n",
       "      <th></th>\n",
       "      <th>conso</th>\n",
       "    </tr>\n",
       "    <tr>\n",
       "      <th></th>\n",
       "      <th></th>\n",
       "      <th>mean</th>\n",
       "    </tr>\n",
       "    <tr>\n",
       "      <th>nom commune</th>\n",
       "      <th>usage</th>\n",
       "      <th></th>\n",
       "    </tr>\n",
       "  </thead>\n",
       "  <tbody>\n",
       "    <tr>\n",
       "      <th rowspan=\"3\" valign=\"top\">Abbéville-la-Rivière</th>\n",
       "      <th>Autres</th>\n",
       "      <td>335.000000</td>\n",
       "    </tr>\n",
       "    <tr>\n",
       "      <th>Chauffage</th>\n",
       "      <td>586.666667</td>\n",
       "    </tr>\n",
       "    <tr>\n",
       "      <th>ECS</th>\n",
       "      <td>130.000000</td>\n",
       "    </tr>\n",
       "    <tr>\n",
       "      <th rowspan=\"2\" valign=\"top\">Ableiges</th>\n",
       "      <th>Autres</th>\n",
       "      <td>345.000000</td>\n",
       "    </tr>\n",
       "    <tr>\n",
       "      <th>Chauffage</th>\n",
       "      <td>780.000000</td>\n",
       "    </tr>\n",
       "    <tr>\n",
       "      <th>...</th>\n",
       "      <th>...</th>\n",
       "      <td>...</td>\n",
       "    </tr>\n",
       "    <tr>\n",
       "      <th rowspan=\"2\" valign=\"top\">Évry-Grégy-sur-Yerre</th>\n",
       "      <th>Chauffage</th>\n",
       "      <td>2240.000000</td>\n",
       "    </tr>\n",
       "    <tr>\n",
       "      <th>ECS</th>\n",
       "      <td>482.000000</td>\n",
       "    </tr>\n",
       "    <tr>\n",
       "      <th rowspan=\"3\" valign=\"top\">Ézanville</th>\n",
       "      <th>Autres</th>\n",
       "      <td>2341.666667</td>\n",
       "    </tr>\n",
       "    <tr>\n",
       "      <th>Chauffage</th>\n",
       "      <td>6611.250000</td>\n",
       "    </tr>\n",
       "    <tr>\n",
       "      <th>ECS</th>\n",
       "      <td>1240.000000</td>\n",
       "    </tr>\n",
       "  </tbody>\n",
       "</table>\n",
       "<p>3849 rows × 1 columns</p>\n",
       "</div>"
      ],
      "text/plain": [
       "                                      conso\n",
       "                                       mean\n",
       "nom commune          usage                 \n",
       "Abbéville-la-Rivière Autres      335.000000\n",
       "                     Chauffage   586.666667\n",
       "                     ECS         130.000000\n",
       "Ableiges             Autres      345.000000\n",
       "                     Chauffage   780.000000\n",
       "...                                     ...\n",
       "Évry-Grégy-sur-Yerre Chauffage  2240.000000\n",
       "                     ECS         482.000000\n",
       "Ézanville            Autres     2341.666667\n",
       "                     Chauffage  6611.250000\n",
       "                     ECS        1240.000000\n",
       "\n",
       "[3849 rows x 1 columns]"
      ]
     },
     "execution_count": 153,
     "metadata": {},
     "output_type": "execute_result"
    }
   ],
   "source": [
    "df_final.filter(items=['nom commune','conso','energie','usage',\n",
    "                       ]).drop_duplicates().groupby(by=['nom commune', 'usage']).agg({'conso': ['mean']})"
   ]
  },
  {
   "cell_type": "code",
   "execution_count": 129,
   "id": "92d5f98a",
   "metadata": {},
   "outputs": [],
   "source": [
    "import geopandas as gpd"
   ]
  },
  {
   "cell_type": "code",
   "execution_count": 146,
   "id": "6be66846",
   "metadata": {},
   "outputs": [],
   "source": [
    "gdf = gpd.GeoDataFrame(\n",
    "    df_final, geometry='geometry', crs=\"EPSG:4326\"\n",
    ")"
   ]
  },
  {
   "cell_type": "code",
   "execution_count": 138,
   "id": "a1c74563",
   "metadata": {},
   "outputs": [],
   "source": [
    "#gdf=gdf.drop(columns=['insee','nom','wikipedia','wikipedia','merge_type'], inplace=True)"
   ]
  },
  {
   "cell_type": "code",
   "execution_count": 141,
   "id": "feef6acd",
   "metadata": {},
   "outputs": [
    {
     "data": {
      "text/html": [
       "<div>\n",
       "<style scoped>\n",
       "    .dataframe tbody tr th:only-of-type {\n",
       "        vertical-align: middle;\n",
       "    }\n",
       "\n",
       "    .dataframe tbody tr th {\n",
       "        vertical-align: top;\n",
       "    }\n",
       "\n",
       "    .dataframe thead th {\n",
       "        text-align: right;\n",
       "    }\n",
       "</style>\n",
       "<table border=\"1\" class=\"dataframe\">\n",
       "  <thead>\n",
       "    <tr style=\"text-align: right;\">\n",
       "      <th></th>\n",
       "      <th>categorie</th>\n",
       "      <th>commune</th>\n",
       "      <th>nom commune</th>\n",
       "      <th>conso</th>\n",
       "      <th>type_batiment</th>\n",
       "      <th>usage</th>\n",
       "      <th>energie</th>\n",
       "      <th>insee</th>\n",
       "      <th>nom</th>\n",
       "      <th>wikipedia</th>\n",
       "      <th>surf_ha</th>\n",
       "      <th>geometry</th>\n",
       "      <th>merge_type</th>\n",
       "    </tr>\n",
       "  </thead>\n",
       "  <tbody>\n",
       "    <tr>\n",
       "      <th>0</th>\n",
       "      <td>Principal</td>\n",
       "      <td>75101</td>\n",
       "      <td>Paris 1er Arrondissement</td>\n",
       "      <td>80.000000</td>\n",
       "      <td>Maison</td>\n",
       "      <td>Chauffage</td>\n",
       "      <td>Bois</td>\n",
       "      <td>NaN</td>\n",
       "      <td>NaN</td>\n",
       "      <td>NaN</td>\n",
       "      <td>NaN</td>\n",
       "      <td>None</td>\n",
       "      <td>left_only</td>\n",
       "    </tr>\n",
       "    <tr>\n",
       "      <th>1</th>\n",
       "      <td>Principal</td>\n",
       "      <td>75102</td>\n",
       "      <td>Paris 2e  Arrondissement</td>\n",
       "      <td>3645.267702</td>\n",
       "      <td>Maison</td>\n",
       "      <td>Chauffage</td>\n",
       "      <td>Bois</td>\n",
       "      <td>NaN</td>\n",
       "      <td>NaN</td>\n",
       "      <td>NaN</td>\n",
       "      <td>NaN</td>\n",
       "      <td>None</td>\n",
       "      <td>left_only</td>\n",
       "    </tr>\n",
       "    <tr>\n",
       "      <th>2</th>\n",
       "      <td>Principal</td>\n",
       "      <td>75103</td>\n",
       "      <td>Paris 3e  Arrondissement</td>\n",
       "      <td>120.000000</td>\n",
       "      <td>Maison</td>\n",
       "      <td>Chauffage</td>\n",
       "      <td>Bois</td>\n",
       "      <td>NaN</td>\n",
       "      <td>NaN</td>\n",
       "      <td>NaN</td>\n",
       "      <td>NaN</td>\n",
       "      <td>None</td>\n",
       "      <td>left_only</td>\n",
       "    </tr>\n",
       "    <tr>\n",
       "      <th>3</th>\n",
       "      <td>Principal</td>\n",
       "      <td>75104</td>\n",
       "      <td>Paris 4e  Arrondissement</td>\n",
       "      <td>100.000000</td>\n",
       "      <td>Maison</td>\n",
       "      <td>Chauffage</td>\n",
       "      <td>Bois</td>\n",
       "      <td>NaN</td>\n",
       "      <td>NaN</td>\n",
       "      <td>NaN</td>\n",
       "      <td>NaN</td>\n",
       "      <td>None</td>\n",
       "      <td>left_only</td>\n",
       "    </tr>\n",
       "    <tr>\n",
       "      <th>4</th>\n",
       "      <td>Principal</td>\n",
       "      <td>75105</td>\n",
       "      <td>Paris 5e  Arrondissement</td>\n",
       "      <td>300.000000</td>\n",
       "      <td>Maison</td>\n",
       "      <td>Chauffage</td>\n",
       "      <td>Bois</td>\n",
       "      <td>NaN</td>\n",
       "      <td>NaN</td>\n",
       "      <td>NaN</td>\n",
       "      <td>NaN</td>\n",
       "      <td>None</td>\n",
       "      <td>left_only</td>\n",
       "    </tr>\n",
       "  </tbody>\n",
       "</table>\n",
       "</div>"
      ],
      "text/plain": [
       "   categorie  commune               nom commune        conso type_batiment  \\\n",
       "0  Principal    75101  Paris 1er Arrondissement    80.000000        Maison   \n",
       "1  Principal    75102  Paris 2e  Arrondissement  3645.267702        Maison   \n",
       "2  Principal    75103  Paris 3e  Arrondissement   120.000000        Maison   \n",
       "3  Principal    75104  Paris 4e  Arrondissement   100.000000        Maison   \n",
       "4  Principal    75105  Paris 5e  Arrondissement   300.000000        Maison   \n",
       "\n",
       "       usage energie  insee  nom wikipedia  surf_ha geometry merge_type  \n",
       "0  Chauffage    Bois    NaN  NaN       NaN      NaN     None  left_only  \n",
       "1  Chauffage    Bois    NaN  NaN       NaN      NaN     None  left_only  \n",
       "2  Chauffage    Bois    NaN  NaN       NaN      NaN     None  left_only  \n",
       "3  Chauffage    Bois    NaN  NaN       NaN      NaN     None  left_only  \n",
       "4  Chauffage    Bois    NaN  NaN       NaN      NaN     None  left_only  "
      ]
     },
     "execution_count": 141,
     "metadata": {},
     "output_type": "execute_result"
    }
   ],
   "source": [
    "gdf.head()"
   ]
  },
  {
   "cell_type": "code",
   "execution_count": 147,
   "id": "735e62bf",
   "metadata": {},
   "outputs": [
    {
     "data": {
      "text/plain": [
       "<Projected CRS: EPSG:2062>\n",
       "Name: Madrid 1870 (Madrid) / Spain LCC\n",
       "Axis Info [cartesian]:\n",
       "- X[east]: Easting (metre)\n",
       "- Y[north]: Northing (metre)\n",
       "Area of Use:\n",
       "- name: Spain - mainland onshore.\n",
       "- bounds: (-9.37, 35.95, 3.39, 43.82)\n",
       "Coordinate Operation:\n",
       "- name: Spain\n",
       "- method: Lambert Conic Conformal (1SP)\n",
       "Datum: Madrid 1870 (Madrid)\n",
       "- Ellipsoid: Struve 1860\n",
       "- Prime Meridian: Madrid"
      ]
     },
     "execution_count": 147,
     "metadata": {},
     "output_type": "execute_result"
    }
   ],
   "source": [
    "gdf.to_crs(epsg=2062, inplace=True)\n",
    "\n",
    "gdf.crs"
   ]
  }
 ],
 "metadata": {
  "kernelspec": {
   "display_name": "Python 3",
   "language": "python",
   "name": "python3"
  },
  "language_info": {
   "codemirror_mode": {
    "name": "ipython",
    "version": 3
   },
   "file_extension": ".py",
   "mimetype": "text/x-python",
   "name": "python",
   "nbconvert_exporter": "python",
   "pygments_lexer": "ipython3",
   "version": "3.11.4"
  }
 },
 "nbformat": 4,
 "nbformat_minor": 5
}
